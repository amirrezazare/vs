{
 "cells": [
  {
   "cell_type": "code",
   "execution_count": 65,
   "id": "e0f1143a",
   "metadata": {},
   "outputs": [],
   "source": [
    "import numpy as np\n",
    "import pandas as pd\n",
    "import matplotlib.pyplot as plt\n",
    "import random\n",
    "%matplotlib inline"
   ]
  },
  {
   "cell_type": "code",
   "execution_count": 66,
   "id": "7789a4ae",
   "metadata": {},
   "outputs": [
    {
     "name": "stdout",
     "output_type": "stream",
     "text": [
      "[74, 71, 34, 98, 16, 59, 95, 37, 83, 20]\n"
     ]
    }
   ],
   "source": [
    "my_list = [random.randint(1, 100) for _ in range(10)]\n",
    "print(my_list)"
   ]
  },
  {
   "cell_type": "code",
   "execution_count": 67,
   "id": "f21cc78c",
   "metadata": {},
   "outputs": [],
   "source": [
    "my_list = pd.Series(my_list) "
   ]
  },
  {
   "cell_type": "code",
   "execution_count": 68,
   "id": "443c0ede",
   "metadata": {},
   "outputs": [
    {
     "data": {
      "text/plain": [
       "0    74\n",
       "1    71\n",
       "2    34\n",
       "3    98\n",
       "4    16\n",
       "5    59\n",
       "6    95\n",
       "7    37\n",
       "8    83\n",
       "9    20\n",
       "dtype: int64"
      ]
     },
     "execution_count": 68,
     "metadata": {},
     "output_type": "execute_result"
    }
   ],
   "source": [
    "my_list"
   ]
  },
  {
   "cell_type": "code",
   "execution_count": 69,
   "id": "59943d8b",
   "metadata": {},
   "outputs": [],
   "source": [
    "my_list2 = [x**2 for x in my_list]\n"
   ]
  },
  {
   "cell_type": "code",
   "execution_count": null,
   "id": "2fe8266e",
   "metadata": {},
   "outputs": [],
   "source": []
  },
  {
   "cell_type": "code",
   "execution_count": null,
   "id": "584fe04a",
   "metadata": {},
   "outputs": [],
   "source": []
  },
  {
   "cell_type": "code",
   "execution_count": 70,
   "id": "53a6781d",
   "metadata": {},
   "outputs": [
    {
     "data": {
      "text/plain": [
       "<Figure size 640x480 with 0 Axes>"
      ]
     },
     "metadata": {},
     "output_type": "display_data"
    }
   ],
   "source": [
    "fig = plt.figure()"
   ]
  },
  {
   "cell_type": "code",
   "execution_count": 71,
   "id": "cd6e7ae1",
   "metadata": {},
   "outputs": [
    {
     "data": {
      "image/png": "[encoded data removed]",
      "text/plain": [
       "<Figure size 640x480 with 1 Axes>"
      ]
     },
     "metadata": {},
     "output_type": "display_data"
    }
   ],
   "source": [
    "fig = plt.figure()\n",
    "axes = fig.add_axes([0,0,1,1])\n"
   ]
  },
  {
   "cell_type": "code",
   "execution_count": null,
   "id": "24810582",
   "metadata": {},
   "outputs": [],
   "source": [
    "axes.plot(my_list,my_list2)"
   ]
  }
 ],
 "metadata": {
  "kernelspec": {
   "display_name": "Python 3 (ipykernel)",
   "language": "python",
   "name": "python3"
  },
  "language_info": {
   "codemirror_mode": {
    "name": "ipython",
    "version": 3
   },
   "file_extension": ".py",
   "mimetype": "text/x-python",
   "name": "python",
   "nbconvert_exporter": "python",
   "pygments_lexer": "ipython3",
   "version": "3.10.9"
  }
 },
 "nbformat": 4,
 "nbformat_minor": 5
}
